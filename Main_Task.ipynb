{
  "nbformat": 4,
  "nbformat_minor": 0,
  "metadata": {
    "colab": {
      "provenance": []
    },
    "kernelspec": {
      "name": "python3",
      "display_name": "Python 3"
    },
    "language_info": {
      "name": "python"
    }
  },
  "cells": [
    {
      "cell_type": "code",
      "source": [
        "import pandas as pd\n",
        "import numpy as np\n",
        "from sklearn.model_selection import train_test_split ,GridSearchCV\n",
        "from sklearn.preprocessing import StandardScaler\n",
        "from sklearn.linear_model import LogisticRegression\n",
        "from sklearn.metrics import accuracy_score, precision_score, recall_score,f1_score\n",
        "from sklearn.feature_selection import RFE"
      ],
      "metadata": {
        "id": "s-lxJc6gE0vz"
      },
      "execution_count": null,
      "outputs": []
    },
    {
      "cell_type": "code",
      "source": [
        "# Load the dataset\n",
        "data = pd.read_csv('diabetes_dataset.csv')\n",
        "\n",
        "# Display the first few rows of the dataset\n",
        "print(data.head())\n",
        "\n",
        "# Display the Last few rows of the dataset\n",
        "\n",
        "print(data.tail())\n",
        "\n",
        "# Display the information of dataset\n",
        "print(data.info())"
      ],
      "metadata": {
        "colab": {
          "base_uri": "https://localhost:8080/"
        },
        "id": "C2T7JuHGDA6a",
        "outputId": "0928f94d-fcfd-48a5-af6c-c71af093fda2"
      },
      "execution_count": null,
      "outputs": [
        {
          "output_type": "stream",
          "name": "stdout",
          "text": [
            "   Age  Pregnancies    BMI  Glucose  BloodPressure  HbA1c    LDL   HDL  \\\n",
            "0   69            5  28.39    130.1           77.0    5.4  130.4  44.0   \n",
            "1   32            1  26.49    116.5           72.0    4.5   87.4  54.2   \n",
            "2   89           13  25.34    101.0           82.0    4.9  112.5  56.8   \n",
            "3   78           13  29.91    146.0          104.0    5.7   50.7  39.1   \n",
            "4   38            8  24.56    103.2           74.0    4.7  102.5  29.1   \n",
            "\n",
            "   Triglycerides  WaistCircumference  HipCircumference   WHR  FamilyHistory  \\\n",
            "0           50.0                90.5             107.9  0.84              0   \n",
            "1          129.9               113.3              81.4  1.39              0   \n",
            "2          177.6                84.7             107.2  0.79              0   \n",
            "3          117.0               108.9             110.0  0.99              0   \n",
            "4          145.9                84.1              92.8  0.91              0   \n",
            "\n",
            "   DietType  Hypertension  MedicationUse  Outcome  \n",
            "0         0             0              1        0  \n",
            "1         0             0              0        0  \n",
            "2         0             0              1        0  \n",
            "3         0             0              1        1  \n",
            "4         1             0              0        0  \n",
            "      Age  Pregnancies    BMI  Glucose  BloodPressure  HbA1c    LDL   HDL  \\\n",
            "9533   32            3  23.00    102.3           62.0    4.1  109.3  47.8   \n",
            "9534   74            0  24.29    125.8           93.0    5.3   95.8  66.6   \n",
            "9535   75            6  26.10    107.6           75.0    5.0  168.5  62.3   \n",
            "9536   52            1  25.88     99.3           96.0    4.6   70.0  48.4   \n",
            "9537   33            3  25.61     69.1           65.0    4.0   69.0  59.4   \n",
            "\n",
            "      Triglycerides  WaistCircumference  HipCircumference   WHR  \\\n",
            "9533           76.7                86.8             115.0  0.75   \n",
            "9534          103.7                90.1              94.3  0.96   \n",
            "9535          149.8                84.0             114.9  0.73   \n",
            "9536          122.9                97.5              88.7  1.10   \n",
            "9537          169.5                79.7             101.1  0.79   \n",
            "\n",
            "      FamilyHistory  DietType  Hypertension  MedicationUse  Outcome  \n",
            "9533              0         0             0              0        0  \n",
            "9534              1         0             0              1        1  \n",
            "9535              0         0             0              1        0  \n",
            "9536              1         0             0              0        1  \n",
            "9537              0         1             0              0        0  \n",
            "<class 'pandas.core.frame.DataFrame'>\n",
            "RangeIndex: 9538 entries, 0 to 9537\n",
            "Data columns (total 17 columns):\n",
            " #   Column              Non-Null Count  Dtype  \n",
            "---  ------              --------------  -----  \n",
            " 0   Age                 9538 non-null   int64  \n",
            " 1   Pregnancies         9538 non-null   int64  \n",
            " 2   BMI                 9538 non-null   float64\n",
            " 3   Glucose             9538 non-null   float64\n",
            " 4   BloodPressure       9538 non-null   float64\n",
            " 5   HbA1c               9538 non-null   float64\n",
            " 6   LDL                 9538 non-null   float64\n",
            " 7   HDL                 9538 non-null   float64\n",
            " 8   Triglycerides       9538 non-null   float64\n",
            " 9   WaistCircumference  9538 non-null   float64\n",
            " 10  HipCircumference    9538 non-null   float64\n",
            " 11  WHR                 9538 non-null   float64\n",
            " 12  FamilyHistory       9538 non-null   int64  \n",
            " 13  DietType            9538 non-null   int64  \n",
            " 14  Hypertension        9538 non-null   int64  \n",
            " 15  MedicationUse       9538 non-null   int64  \n",
            " 16  Outcome             9538 non-null   int64  \n",
            "dtypes: float64(10), int64(7)\n",
            "memory usage: 1.2 MB\n",
            "None\n"
          ]
        }
      ]
    },
    {
      "cell_type": "code",
      "source": [
        "# Check for missing values\n",
        "print(data.isnull().sum())\n",
        "\n",
        "# Scale features used for logistic regression\n",
        "scaler = StandardScaler()\n",
        "features = data.drop('Outcome', axis=1)\n",
        "scaled_features = scaler.fit_transform(features)\n",
        "\n",
        "# Define target variable\n",
        "target = data['Outcome']\n"
      ],
      "metadata": {
        "colab": {
          "base_uri": "https://localhost:8080/"
        },
        "id": "g2myywdIFL5-",
        "outputId": "eac25e9b-dedb-463f-da61-87979fae307f"
      },
      "execution_count": null,
      "outputs": [
        {
          "output_type": "stream",
          "name": "stdout",
          "text": [
            "Age                   0\n",
            "Pregnancies           0\n",
            "BMI                   0\n",
            "Glucose               0\n",
            "BloodPressure         0\n",
            "HbA1c                 0\n",
            "LDL                   0\n",
            "HDL                   0\n",
            "Triglycerides         0\n",
            "WaistCircumference    0\n",
            "HipCircumference      0\n",
            "WHR                   0\n",
            "FamilyHistory         0\n",
            "DietType              0\n",
            "Hypertension          0\n",
            "MedicationUse         0\n",
            "Outcome               0\n",
            "dtype: int64\n"
          ]
        }
      ]
    },
    {
      "cell_type": "markdown",
      "source": [
        "Split the dataset into training and testing sets (80-20 split)."
      ],
      "metadata": {
        "id": "lVEKG8ONccf8"
      }
    },
    {
      "cell_type": "code",
      "source": [
        "# Split the dataset into training and testing sets (80-20 split).\n",
        "X_train, X_test, y_train, y_test = train_test_split(scaled_features, target, test_size=0.2, random_state=900)\n"
      ],
      "metadata": {
        "id": "115yJFzxDKJN"
      },
      "execution_count": null,
      "outputs": []
    },
    {
      "cell_type": "markdown",
      "source": [
        "Train a Logistic Regression model."
      ],
      "metadata": {
        "id": "8BO2KwOEcZQQ"
      }
    },
    {
      "cell_type": "markdown",
      "source": [],
      "metadata": {
        "id": "laiMK-1G_94s"
      }
    },
    {
      "cell_type": "code",
      "source": [
        "# Train the Logistic Regression model\n",
        "logistic_model = LogisticRegression()\n",
        "logistic_model.fit(X_train, y_train)\n",
        "\n",
        "# Make predictions\n",
        "y_pred = logistic_model.predict(X_test)\n"
      ],
      "metadata": {
        "id": "rVmnFbmDDp4w"
      },
      "execution_count": null,
      "outputs": []
    },
    {
      "cell_type": "markdown",
      "source": [
        "Evaluate model performance using Accuracy, Precision, Recall, and F1-score."
      ],
      "metadata": {
        "id": "6bxiUEIMcT9n"
      }
    },
    {
      "cell_type": "code",
      "source": [
        "# Calculate performance metrics\n",
        "accuracy = accuracy_score(y_test, y_pred)\n",
        "precision = precision_score(y_test, y_pred)\n",
        "recall = recall_score(y_test, y_pred)\n",
        "f1 = f1_score(y_test, y_pred)\n",
        "\n",
        "# Display the Evaluation parameter\n",
        "print(f'Accuracy: {accuracy}')\n",
        "print(f'Precision: {precision}')\n",
        "print(f'Recall: {recall}')\n",
        "print(f'F1 Score: {f1}')\n",
        "\n"
      ],
      "metadata": {
        "colab": {
          "base_uri": "https://localhost:8080/"
        },
        "id": "WfAEGB-rFyCs",
        "outputId": "38c6dcd0-3cb5-4b71-e973-4c1cc612123f"
      },
      "execution_count": null,
      "outputs": [
        {
          "output_type": "stream",
          "name": "stdout",
          "text": [
            "Accuracy: 0.9926624737945493\n",
            "Precision: 1.0\n",
            "Recall: 0.9795918367346939\n",
            "F1 Score: 0.9896907216494846\n"
          ]
        }
      ]
    },
    {
      "cell_type": "markdown",
      "source": [
        "Perform feature selection to determine which variables contribute the most."
      ],
      "metadata": {
        "id": "p_c8KBf7cn9z"
      }
    },
    {
      "cell_type": "code",
      "source": [
        "# Feature selection using RFE\n",
        "selector = RFE(logistic_model, n_features_to_select=8, step=1)\n",
        "selector = selector.fit(X_train, y_train)\n",
        "\n",
        "# Get the selected feature indices and names\n",
        "selected_features = selector.support_\n",
        "features_names = features.columns\n",
        "print(\"Selected features are:\", features_names[selected_features])\n"
      ],
      "metadata": {
        "colab": {
          "base_uri": "https://localhost:8080/"
        },
        "id": "09wwpjuoFrHp",
        "outputId": "a3ea62b0-fe15-47be-ac38-12509b26895a"
      },
      "execution_count": null,
      "outputs": [
        {
          "output_type": "stream",
          "name": "stdout",
          "text": [
            "Selected features are: Index(['Age', 'BMI', 'Glucose', 'HbA1c', 'WaistCircumference',\n",
            "       'HipCircumference', 'WHR', 'FamilyHistory'],\n",
            "      dtype='object')\n"
          ]
        }
      ]
    },
    {
      "cell_type": "markdown",
      "source": [
        "Optimize the model using hyperparameter tuning."
      ],
      "metadata": {
        "id": "Kh_GKhamcqAt"
      }
    },
    {
      "cell_type": "code",
      "source": [
        "# Define hyperparameters to tune\n",
        "param_grid = {\n",
        "    'C': [0.0001,0.001, 0.01, 0.1, 1, 10, 100],\n",
        "    'penalty': ['l1', 'l2']\n",
        "}\n",
        "\n",
        "# Initialize GridSearchCV\n",
        "grid = GridSearchCV(LogisticRegression(solver='liblinear'), param_grid, scoring='f1', cv=4)\n",
        "grid.fit(X_train, y_train)\n",
        "\n",
        "# Best parameters\n",
        "print(\"Best Hyperparameters:\", grid.best_params_)\n",
        "\n",
        "# Best model\n",
        "best_model = grid.best_estimator_\n",
        "\n",
        "# Evaluate on test set\n",
        "y_pred_optimized = best_model.predict(X_test)\n",
        "\n",
        "# Metrics for optimized model\n",
        "accuracy_opt = accuracy_score(y_test, y_pred_optimized)\n",
        "precision_opt = precision_score(y_test, y_pred_optimized)\n",
        "recall_opt = recall_score(y_test, y_pred_optimized)\n",
        "f1_opt = f1_score(y_test, y_pred_optimized)\n",
        "\n",
        "print(f'Optimized Accuracy: {accuracy_opt}')\n",
        "print(f'Optimized Precision: {precision_opt}')\n",
        "print(f'Optimized Recall: {recall_opt}')\n",
        "print(f'Optimized F1 Score: {f1_opt}')\n"
      ],
      "metadata": {
        "colab": {
          "base_uri": "https://localhost:8080/"
        },
        "id": "1VRNap4dIP_Y",
        "outputId": "2366fd2a-99cb-4ab7-e5b4-b2cc02d68185"
      },
      "execution_count": null,
      "outputs": [
        {
          "output_type": "stream",
          "name": "stderr",
          "text": [
            "/usr/local/lib/python3.11/dist-packages/sklearn/svm/_base.py:1249: ConvergenceWarning: Liblinear failed to converge, increase the number of iterations.\n",
            "  warnings.warn(\n"
          ]
        },
        {
          "output_type": "stream",
          "name": "stdout",
          "text": [
            "Best Hyperparameters: {'C': 1, 'penalty': 'l1'}\n",
            "Optimized Accuracy: 0.9984276729559748\n",
            "Optimized Precision: 0.9985401459854014\n",
            "Optimized Recall: 0.9970845481049563\n",
            "Optimized F1 Score: 0.9978118161925602\n"
          ]
        }
      ]
    },
    {
      "cell_type": "markdown",
      "source": [
        "Add on Task : Feature Engineering\n"
      ],
      "metadata": {
        "id": "csMyt59NooUz"
      }
    },
    {
      "cell_type": "code",
      "source": [
        "\n",
        "\n",
        "# Read dataset\n",
        "file_path = \"diabetes_dataset.csv\"\n",
        "df = pd.read_csv(file_path)\n",
        "\n",
        "# Create a new feature that categorizes individuals as \"Overweight\" or \"Normal\" based on BMI\n",
        "def categorize_bmi(bmi):\n",
        "    if bmi < 18.5:\n",
        "        return \"Underweight\"\n",
        "    elif 18.5 <= bmi < 25:\n",
        "        return \"Normal\"\n",
        "    elif 25 <= bmi < 30:\n",
        "        return \"Overweight\"\n",
        "    else:\n",
        "        return \"Obese\"\n",
        "\n",
        "\n",
        "# Create a cholesterol risk level feature using LDL and HDL values\n",
        "def cholesterol_risk(ldl, hdl):\n",
        "    if ldl >= 160 or hdl < 40:\n",
        "        return \"High Risk\"\n",
        "    elif ldl >= 100 or hdl < 50:\n",
        "        return \"Moderate Risk\"\n",
        "    else:\n",
        "        return \"Low Risk\"\n",
        "\n",
        "#  Calculate the average of BloodPressure and categorize it as Low, Normal, or High\n",
        "def categorize_bp(bp):\n",
        "    if bp < 120:\n",
        "        return 'Low'\n",
        "    elif 120 <= bp < 140:\n",
        "        return 'Normal'\n",
        "    else:\n",
        "        return 'High'\n",
        "\n",
        "\n",
        "# Generate a new binary feature: \"High WHR\" (1 if WHR > 0.85 for females, > 0.90 for males, else 0).\n",
        "def high_whr(whr):\n",
        "    return 1 if whr > 0.85 else 0\n",
        "\n",
        "\n",
        "# Apply transformations\n",
        "df[\"BMI_Category\"] = df[\"BMI\"].apply(categorize_bmi)\n",
        "df[\"Cholesterol_Risk\"] = df.apply(lambda row: cholesterol_risk(row[\"LDL\"], row[\"HDL\"]), axis=1)\n",
        "df[\"BP_Category\"] = df[\"BloodPressure\"].apply(categorize_bp)\n",
        "df[\"High_WHR\"] = df[\"WHR\"].apply(high_whr)\n",
        "\n",
        "# Save the output  of modified dataset\n",
        "output_file = \"Feature_Engineering_Updated_Diabetes_dataset.csv\"\n",
        "df.to_csv(output_file, index=False)\n",
        "\n",
        "print(f\"model updated saved as {output_file}\")"
      ],
      "metadata": {
        "colab": {
          "base_uri": "https://localhost:8080/"
        },
        "id": "u7kfV-hFnHeU",
        "outputId": "8cda1a98-a3a0-434e-8591-eeca1fa866b8"
      },
      "execution_count": null,
      "outputs": [
        {
          "output_type": "stream",
          "name": "stdout",
          "text": [
            "model updated saved as Feature_Engineering_Updated_Diabetes_dataset.csv\n"
          ]
        }
      ]
    }
  ]
}